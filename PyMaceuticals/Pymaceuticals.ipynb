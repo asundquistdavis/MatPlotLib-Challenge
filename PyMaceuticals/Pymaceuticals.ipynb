{
 "cells": [
  {
   "cell_type": "markdown",
   "id": "1ccd81bf",
   "metadata": {},
   "source": [
    "# Pymaceuticals MatPlotLib-Challenge\n",
    "This notebook explores the numby, scipy and matloplib.pyplot libraries and uses their functionality to analyse mouse drug treatment data. The two sources of data, randomly generated with [Mockaroo, LLC](https://mockaroo.com/), included study data about 249 mice with cancer, treated with different drug regimen. The analysis performed in this notebook uses summary statistics and grapghs/visuals to help interprit which drug regimen is best. "
   ]
  },
  {
   "cell_type": "markdown",
   "id": "884aa582",
   "metadata": {},
   "source": [
    "## Preparing the Data\n",
    "First the data is parced as dataframes from csv using pandas. The top few rows of each df are shown to get an idea of what information they hold and the print out of info shows what data types are being used and how many rows have valid entires for each column."
   ]
  },
  {
   "cell_type": "code",
   "execution_count": 1,
   "id": "f2f91800",
   "metadata": {},
   "outputs": [
    {
     "data": {
      "text/html": [
       "<div>\n",
       "<style scoped>\n",
       "    .dataframe tbody tr th:only-of-type {\n",
       "        vertical-align: middle;\n",
       "    }\n",
       "\n",
       "    .dataframe tbody tr th {\n",
       "        vertical-align: top;\n",
       "    }\n",
       "\n",
       "    .dataframe thead th {\n",
       "        text-align: right;\n",
       "    }\n",
       "</style>\n",
       "<table border=\"1\" class=\"dataframe\">\n",
       "  <thead>\n",
       "    <tr style=\"text-align: right;\">\n",
       "      <th></th>\n",
       "      <th>Mouse ID</th>\n",
       "      <th>Drug Regimen</th>\n",
       "      <th>Sex</th>\n",
       "      <th>Age_months</th>\n",
       "      <th>Weight (g)</th>\n",
       "    </tr>\n",
       "  </thead>\n",
       "  <tbody>\n",
       "    <tr>\n",
       "      <th>0</th>\n",
       "      <td>k403</td>\n",
       "      <td>Ramicane</td>\n",
       "      <td>Male</td>\n",
       "      <td>21</td>\n",
       "      <td>16</td>\n",
       "    </tr>\n",
       "    <tr>\n",
       "      <th>1</th>\n",
       "      <td>s185</td>\n",
       "      <td>Capomulin</td>\n",
       "      <td>Female</td>\n",
       "      <td>3</td>\n",
       "      <td>17</td>\n",
       "    </tr>\n",
       "    <tr>\n",
       "      <th>2</th>\n",
       "      <td>x401</td>\n",
       "      <td>Capomulin</td>\n",
       "      <td>Female</td>\n",
       "      <td>16</td>\n",
       "      <td>15</td>\n",
       "    </tr>\n",
       "    <tr>\n",
       "      <th>3</th>\n",
       "      <td>m601</td>\n",
       "      <td>Capomulin</td>\n",
       "      <td>Male</td>\n",
       "      <td>22</td>\n",
       "      <td>17</td>\n",
       "    </tr>\n",
       "    <tr>\n",
       "      <th>4</th>\n",
       "      <td>g791</td>\n",
       "      <td>Ramicane</td>\n",
       "      <td>Male</td>\n",
       "      <td>11</td>\n",
       "      <td>16</td>\n",
       "    </tr>\n",
       "  </tbody>\n",
       "</table>\n",
       "</div>"
      ],
      "text/plain": [
       "  Mouse ID Drug Regimen     Sex  Age_months  Weight (g)\n",
       "0     k403     Ramicane    Male          21          16\n",
       "1     s185    Capomulin  Female           3          17\n",
       "2     x401    Capomulin  Female          16          15\n",
       "3     m601    Capomulin    Male          22          17\n",
       "4     g791     Ramicane    Male          11          16"
      ]
     },
     "execution_count": 1,
     "metadata": {},
     "output_type": "execute_result"
    }
   ],
   "source": [
    "# Dependencies\n",
    "import pandas as pd\n",
    "import scipy.stats as st\n",
    "import matplotlib.pyplot as plt\n",
    "import os\n",
    "import numpy as np\n",
    "import random as rd\n",
    "\n",
    "# Create paths to reasources\n",
    "mouse_data_path = os.path.join('Data', 'Mouse_metadata.csv')\n",
    "study_results_path = os.path.join('Data', 'Study_results.csv')\n",
    "\n",
    "# # Read mouse_data as a df named mouse_df and take a look\n",
    "mouse_df = pd.read_csv(mouse_data_path)\n",
    "mouse_df.head()"
   ]
  },
  {
   "cell_type": "code",
   "execution_count": 2,
   "id": "98c856b2",
   "metadata": {},
   "outputs": [
    {
     "data": {
      "text/html": [
       "<div>\n",
       "<style scoped>\n",
       "    .dataframe tbody tr th:only-of-type {\n",
       "        vertical-align: middle;\n",
       "    }\n",
       "\n",
       "    .dataframe tbody tr th {\n",
       "        vertical-align: top;\n",
       "    }\n",
       "\n",
       "    .dataframe thead th {\n",
       "        text-align: right;\n",
       "    }\n",
       "</style>\n",
       "<table border=\"1\" class=\"dataframe\">\n",
       "  <thead>\n",
       "    <tr style=\"text-align: right;\">\n",
       "      <th></th>\n",
       "      <th>Mouse ID</th>\n",
       "      <th>Timepoint</th>\n",
       "      <th>Tumor Volume (mm3)</th>\n",
       "      <th>Metastatic Sites</th>\n",
       "    </tr>\n",
       "  </thead>\n",
       "  <tbody>\n",
       "    <tr>\n",
       "      <th>0</th>\n",
       "      <td>b128</td>\n",
       "      <td>0</td>\n",
       "      <td>45.0</td>\n",
       "      <td>0</td>\n",
       "    </tr>\n",
       "    <tr>\n",
       "      <th>1</th>\n",
       "      <td>f932</td>\n",
       "      <td>0</td>\n",
       "      <td>45.0</td>\n",
       "      <td>0</td>\n",
       "    </tr>\n",
       "    <tr>\n",
       "      <th>2</th>\n",
       "      <td>g107</td>\n",
       "      <td>0</td>\n",
       "      <td>45.0</td>\n",
       "      <td>0</td>\n",
       "    </tr>\n",
       "    <tr>\n",
       "      <th>3</th>\n",
       "      <td>a457</td>\n",
       "      <td>0</td>\n",
       "      <td>45.0</td>\n",
       "      <td>0</td>\n",
       "    </tr>\n",
       "    <tr>\n",
       "      <th>4</th>\n",
       "      <td>c819</td>\n",
       "      <td>0</td>\n",
       "      <td>45.0</td>\n",
       "      <td>0</td>\n",
       "    </tr>\n",
       "  </tbody>\n",
       "</table>\n",
       "</div>"
      ],
      "text/plain": [
       "  Mouse ID  Timepoint  Tumor Volume (mm3)  Metastatic Sites\n",
       "0     b128          0                45.0                 0\n",
       "1     f932          0                45.0                 0\n",
       "2     g107          0                45.0                 0\n",
       "3     a457          0                45.0                 0\n",
       "4     c819          0                45.0                 0"
      ]
     },
     "execution_count": 2,
     "metadata": {},
     "output_type": "execute_result"
    }
   ],
   "source": [
    "# Read study_results as a df named study_df and take a look\n",
    "study_df = pd. read_csv(study_results_path)\n",
    "study_df.head()"
   ]
  },
  {
   "cell_type": "code",
   "execution_count": 3,
   "id": "0a4133a8",
   "metadata": {},
   "outputs": [
    {
     "data": {
      "text/html": [
       "<div>\n",
       "<style scoped>\n",
       "    .dataframe tbody tr th:only-of-type {\n",
       "        vertical-align: middle;\n",
       "    }\n",
       "\n",
       "    .dataframe tbody tr th {\n",
       "        vertical-align: top;\n",
       "    }\n",
       "\n",
       "    .dataframe thead th {\n",
       "        text-align: right;\n",
       "    }\n",
       "</style>\n",
       "<table border=\"1\" class=\"dataframe\">\n",
       "  <thead>\n",
       "    <tr style=\"text-align: right;\">\n",
       "      <th></th>\n",
       "      <th>Mouse ID</th>\n",
       "      <th>Timepoint</th>\n",
       "      <th>Tumor Volume (mm3)</th>\n",
       "      <th>Metastatic Sites</th>\n",
       "    </tr>\n",
       "  </thead>\n",
       "  <tbody>\n",
       "    <tr>\n",
       "      <th>113</th>\n",
       "      <td>a203</td>\n",
       "      <td>0</td>\n",
       "      <td>45.000000</td>\n",
       "      <td>0</td>\n",
       "    </tr>\n",
       "    <tr>\n",
       "      <th>389</th>\n",
       "      <td>a203</td>\n",
       "      <td>5</td>\n",
       "      <td>48.508468</td>\n",
       "      <td>0</td>\n",
       "    </tr>\n",
       "    <tr>\n",
       "      <th>598</th>\n",
       "      <td>a203</td>\n",
       "      <td>10</td>\n",
       "      <td>51.852437</td>\n",
       "      <td>1</td>\n",
       "    </tr>\n",
       "    <tr>\n",
       "      <th>758</th>\n",
       "      <td>a203</td>\n",
       "      <td>15</td>\n",
       "      <td>52.777870</td>\n",
       "      <td>1</td>\n",
       "    </tr>\n",
       "    <tr>\n",
       "      <th>1018</th>\n",
       "      <td>a203</td>\n",
       "      <td>20</td>\n",
       "      <td>55.173336</td>\n",
       "      <td>1</td>\n",
       "    </tr>\n",
       "    <tr>\n",
       "      <th>1295</th>\n",
       "      <td>a203</td>\n",
       "      <td>25</td>\n",
       "      <td>56.793208</td>\n",
       "      <td>1</td>\n",
       "    </tr>\n",
       "    <tr>\n",
       "      <th>1315</th>\n",
       "      <td>a203</td>\n",
       "      <td>30</td>\n",
       "      <td>59.523197</td>\n",
       "      <td>1</td>\n",
       "    </tr>\n",
       "    <tr>\n",
       "      <th>1577</th>\n",
       "      <td>a203</td>\n",
       "      <td>35</td>\n",
       "      <td>61.931650</td>\n",
       "      <td>2</td>\n",
       "    </tr>\n",
       "    <tr>\n",
       "      <th>1675</th>\n",
       "      <td>a203</td>\n",
       "      <td>40</td>\n",
       "      <td>63.593490</td>\n",
       "      <td>2</td>\n",
       "    </tr>\n",
       "    <tr>\n",
       "      <th>1804</th>\n",
       "      <td>a203</td>\n",
       "      <td>45</td>\n",
       "      <td>67.973419</td>\n",
       "      <td>2</td>\n",
       "    </tr>\n",
       "    <tr>\n",
       "      <th>38</th>\n",
       "      <td>a251</td>\n",
       "      <td>0</td>\n",
       "      <td>45.000000</td>\n",
       "      <td>0</td>\n",
       "    </tr>\n",
       "    <tr>\n",
       "      <th>456</th>\n",
       "      <td>a251</td>\n",
       "      <td>5</td>\n",
       "      <td>46.982127</td>\n",
       "      <td>0</td>\n",
       "    </tr>\n",
       "    <tr>\n",
       "      <th>518</th>\n",
       "      <td>a251</td>\n",
       "      <td>10</td>\n",
       "      <td>48.591179</td>\n",
       "      <td>1</td>\n",
       "    </tr>\n",
       "    <tr>\n",
       "      <th>729</th>\n",
       "      <td>a251</td>\n",
       "      <td>15</td>\n",
       "      <td>50.534456</td>\n",
       "      <td>1</td>\n",
       "    </tr>\n",
       "    <tr>\n",
       "      <th>943</th>\n",
       "      <td>a251</td>\n",
       "      <td>20</td>\n",
       "      <td>54.462594</td>\n",
       "      <td>1</td>\n",
       "    </tr>\n",
       "  </tbody>\n",
       "</table>\n",
       "</div>"
      ],
      "text/plain": [
       "     Mouse ID  Timepoint  Tumor Volume (mm3)  Metastatic Sites\n",
       "113      a203          0           45.000000                 0\n",
       "389      a203          5           48.508468                 0\n",
       "598      a203         10           51.852437                 1\n",
       "758      a203         15           52.777870                 1\n",
       "1018     a203         20           55.173336                 1\n",
       "1295     a203         25           56.793208                 1\n",
       "1315     a203         30           59.523197                 1\n",
       "1577     a203         35           61.931650                 2\n",
       "1675     a203         40           63.593490                 2\n",
       "1804     a203         45           67.973419                 2\n",
       "38       a251          0           45.000000                 0\n",
       "456      a251          5           46.982127                 0\n",
       "518      a251         10           48.591179                 1\n",
       "729      a251         15           50.534456                 1\n",
       "943      a251         20           54.462594                 1"
      ]
     },
     "execution_count": 3,
     "metadata": {},
     "output_type": "execute_result"
    }
   ],
   "source": [
    "# Sort values in study df by ID then timepoint to show how timepoints are used for same mouse\n",
    "study_df.sort_values(['Mouse ID', 'Timepoint']).head(15)"
   ]
  },
  {
   "cell_type": "markdown",
   "id": "a4113336",
   "metadata": {},
   "source": [
    "The first df appears to have one row of data for each mouse in the study, containing info about the specific mouse: sex, age, wight as well as the drug regimen used on that mouse in the study. The second df includes multiple rows of data for each mouse. The set of rows for the same mouse show data across time: Timepoint marks 5 day intervals where study data is clollected. The study data includes Tumor Volume nad Metastatic Sites for each mouse and Timepoint. It is importantto note that not all mice have the same number of timpoints (some mice die before study is completed). "
   ]
  },
  {
   "cell_type": "code",
   "execution_count": 4,
   "id": "700a5d3c",
   "metadata": {},
   "outputs": [
    {
     "name": "stdout",
     "output_type": "stream",
     "text": [
      "<class 'pandas.core.frame.DataFrame'>\n",
      "RangeIndex: 249 entries, 0 to 248\n",
      "Data columns (total 5 columns):\n",
      " #   Column        Non-Null Count  Dtype \n",
      "---  ------        --------------  ----- \n",
      " 0   Mouse ID      249 non-null    object\n",
      " 1   Drug Regimen  249 non-null    object\n",
      " 2   Sex           249 non-null    object\n",
      " 3   Age_months    249 non-null    int64 \n",
      " 4   Weight (g)    249 non-null    int64 \n",
      "dtypes: int64(2), object(3)\n",
      "memory usage: 9.9+ KB\n"
     ]
    }
   ],
   "source": [
    "# Print infor about mouse df\n",
    "mouse_df.info()"
   ]
  },
  {
   "cell_type": "code",
   "execution_count": 5,
   "id": "792cdcad",
   "metadata": {
    "scrolled": true
   },
   "outputs": [
    {
     "name": "stdout",
     "output_type": "stream",
     "text": [
      "<class 'pandas.core.frame.DataFrame'>\n",
      "RangeIndex: 1893 entries, 0 to 1892\n",
      "Data columns (total 4 columns):\n",
      " #   Column              Non-Null Count  Dtype  \n",
      "---  ------              --------------  -----  \n",
      " 0   Mouse ID            1893 non-null   object \n",
      " 1   Timepoint           1893 non-null   int64  \n",
      " 2   Tumor Volume (mm3)  1893 non-null   float64\n",
      " 3   Metastatic Sites    1893 non-null   int64  \n",
      "dtypes: float64(1), int64(2), object(1)\n",
      "memory usage: 59.3+ KB\n"
     ]
    }
   ],
   "source": [
    "# Print info about study df\n",
    "study_df.info()"
   ]
  },
  {
   "cell_type": "markdown",
   "id": "4565f12b",
   "metadata": {},
   "source": [
    "Since all the columns show the same number of non-null entries, both dfs (most likely) contain no missing data. Looking at lenght of the Mouse df and length of the unique Mouse IDs in the study data shows that they both reffernce the same number of mice (probably the same mice!)."
   ]
  },
  {
   "cell_type": "code",
   "execution_count": 6,
   "id": "e80d634e",
   "metadata": {},
   "outputs": [
    {
     "data": {
      "text/plain": [
       "249"
      ]
     },
     "execution_count": 6,
     "metadata": {},
     "output_type": "execute_result"
    }
   ],
   "source": [
    "# Print length of mouse df\n",
    "len(mouse_df['Mouse ID'])"
   ]
  },
  {
   "cell_type": "code",
   "execution_count": 7,
   "id": "47d798e8",
   "metadata": {},
   "outputs": [
    {
     "data": {
      "text/plain": [
       "249"
      ]
     },
     "execution_count": 7,
     "metadata": {},
     "output_type": "execute_result"
    }
   ],
   "source": [
    "# Print length of the unique Mouse IDs in study df \n",
    "len(study_df['Mouse ID'].unique())"
   ]
  },
  {
   "cell_type": "markdown",
   "id": "17c801f0",
   "metadata": {},
   "source": [
    "Since the mice df has data for each mouse included in the study, it can be appended to the study data. This is assuming that both dfs reference the same mice. Pandas.merge method makes this possible."
   ]
  },
  {
   "cell_type": "code",
   "execution_count": 8,
   "id": "69c8b451",
   "metadata": {},
   "outputs": [
    {
     "data": {
      "text/html": [
       "<div>\n",
       "<style scoped>\n",
       "    .dataframe tbody tr th:only-of-type {\n",
       "        vertical-align: middle;\n",
       "    }\n",
       "\n",
       "    .dataframe tbody tr th {\n",
       "        vertical-align: top;\n",
       "    }\n",
       "\n",
       "    .dataframe thead th {\n",
       "        text-align: right;\n",
       "    }\n",
       "</style>\n",
       "<table border=\"1\" class=\"dataframe\">\n",
       "  <thead>\n",
       "    <tr style=\"text-align: right;\">\n",
       "      <th></th>\n",
       "      <th>Mouse ID</th>\n",
       "      <th>Timepoint</th>\n",
       "      <th>Tumor Volume (mm3)</th>\n",
       "      <th>Metastatic Sites</th>\n",
       "      <th>Drug Regimen</th>\n",
       "      <th>Sex</th>\n",
       "      <th>Age_months</th>\n",
       "      <th>Weight (g)</th>\n",
       "    </tr>\n",
       "  </thead>\n",
       "  <tbody>\n",
       "    <tr>\n",
       "      <th>0</th>\n",
       "      <td>b128</td>\n",
       "      <td>0</td>\n",
       "      <td>45.0</td>\n",
       "      <td>0</td>\n",
       "      <td>Capomulin</td>\n",
       "      <td>Female</td>\n",
       "      <td>9</td>\n",
       "      <td>22</td>\n",
       "    </tr>\n",
       "    <tr>\n",
       "      <th>1</th>\n",
       "      <td>f932</td>\n",
       "      <td>0</td>\n",
       "      <td>45.0</td>\n",
       "      <td>0</td>\n",
       "      <td>Ketapril</td>\n",
       "      <td>Male</td>\n",
       "      <td>15</td>\n",
       "      <td>29</td>\n",
       "    </tr>\n",
       "    <tr>\n",
       "      <th>2</th>\n",
       "      <td>g107</td>\n",
       "      <td>0</td>\n",
       "      <td>45.0</td>\n",
       "      <td>0</td>\n",
       "      <td>Ketapril</td>\n",
       "      <td>Female</td>\n",
       "      <td>2</td>\n",
       "      <td>29</td>\n",
       "    </tr>\n",
       "    <tr>\n",
       "      <th>3</th>\n",
       "      <td>a457</td>\n",
       "      <td>0</td>\n",
       "      <td>45.0</td>\n",
       "      <td>0</td>\n",
       "      <td>Ketapril</td>\n",
       "      <td>Female</td>\n",
       "      <td>11</td>\n",
       "      <td>30</td>\n",
       "    </tr>\n",
       "    <tr>\n",
       "      <th>4</th>\n",
       "      <td>c819</td>\n",
       "      <td>0</td>\n",
       "      <td>45.0</td>\n",
       "      <td>0</td>\n",
       "      <td>Ketapril</td>\n",
       "      <td>Male</td>\n",
       "      <td>21</td>\n",
       "      <td>25</td>\n",
       "    </tr>\n",
       "  </tbody>\n",
       "</table>\n",
       "</div>"
      ],
      "text/plain": [
       "  Mouse ID  Timepoint  Tumor Volume (mm3)  Metastatic Sites Drug Regimen  \\\n",
       "0     b128          0                45.0                 0    Capomulin   \n",
       "1     f932          0                45.0                 0     Ketapril   \n",
       "2     g107          0                45.0                 0     Ketapril   \n",
       "3     a457          0                45.0                 0     Ketapril   \n",
       "4     c819          0                45.0                 0     Ketapril   \n",
       "\n",
       "      Sex  Age_months  Weight (g)  \n",
       "0  Female           9          22  \n",
       "1    Male          15          29  \n",
       "2  Female           2          29  \n",
       "3  Female          11          30  \n",
       "4    Male          21          25  "
      ]
     },
     "execution_count": 8,
     "metadata": {},
     "output_type": "execute_result"
    }
   ],
   "source": [
    "# Left merge (mouse data appended to study data)\n",
    "study_df = pd.merge(study_df, mouse_df, how='left')\n",
    "study_df.head()"
   ]
  },
  {
   "cell_type": "markdown",
   "id": "7966f2c9",
   "metadata": {},
   "source": [
    "Looking at the length of the newly merged df shows there is a one-to-one relation between IDs in both df since no ID was lost or added. Looking at number of rows for each ID at timepoint 0 shows that one mouse, g989, is repeated."
   ]
  },
  {
   "cell_type": "code",
   "execution_count": 9,
   "id": "8951f427",
   "metadata": {},
   "outputs": [
    {
     "data": {
      "text/plain": [
       "Mouse ID\n",
       "g989        2\n",
       "a203        1\n",
       "s121        1\n",
       "q597        1\n",
       "q610        1\n",
       "           ..\n",
       "j246        1\n",
       "j296        1\n",
       "j365        1\n",
       "j755        1\n",
       "z969        1\n",
       "Length: 249, dtype: int64"
      ]
     },
     "execution_count": 9,
     "metadata": {},
     "output_type": "execute_result"
    }
   ],
   "source": [
    "# Check length of merge df is consistant with original data/show if any mouse IDs are repeated on timepoint 0.\n",
    "study_df.loc[study_df['Timepoint'] == 0, ['Mouse ID']].value_counts()"
   ]
  },
  {
   "cell_type": "code",
   "execution_count": 10,
   "id": "29862b64",
   "metadata": {},
   "outputs": [
    {
     "data": {
      "text/html": [
       "<div>\n",
       "<style scoped>\n",
       "    .dataframe tbody tr th:only-of-type {\n",
       "        vertical-align: middle;\n",
       "    }\n",
       "\n",
       "    .dataframe tbody tr th {\n",
       "        vertical-align: top;\n",
       "    }\n",
       "\n",
       "    .dataframe thead th {\n",
       "        text-align: right;\n",
       "    }\n",
       "</style>\n",
       "<table border=\"1\" class=\"dataframe\">\n",
       "  <thead>\n",
       "    <tr style=\"text-align: right;\">\n",
       "      <th></th>\n",
       "      <th>Mouse ID</th>\n",
       "      <th>Timepoint</th>\n",
       "      <th>Tumor Volume (mm3)</th>\n",
       "      <th>Metastatic Sites</th>\n",
       "      <th>Drug Regimen</th>\n",
       "      <th>Sex</th>\n",
       "      <th>Age_months</th>\n",
       "      <th>Weight (g)</th>\n",
       "    </tr>\n",
       "  </thead>\n",
       "  <tbody>\n",
       "    <tr>\n",
       "      <th>107</th>\n",
       "      <td>g989</td>\n",
       "      <td>0</td>\n",
       "      <td>45.000000</td>\n",
       "      <td>0</td>\n",
       "      <td>Propriva</td>\n",
       "      <td>Female</td>\n",
       "      <td>21</td>\n",
       "      <td>26</td>\n",
       "    </tr>\n",
       "    <tr>\n",
       "      <th>137</th>\n",
       "      <td>g989</td>\n",
       "      <td>0</td>\n",
       "      <td>45.000000</td>\n",
       "      <td>0</td>\n",
       "      <td>Propriva</td>\n",
       "      <td>Female</td>\n",
       "      <td>21</td>\n",
       "      <td>26</td>\n",
       "    </tr>\n",
       "    <tr>\n",
       "      <th>329</th>\n",
       "      <td>g989</td>\n",
       "      <td>5</td>\n",
       "      <td>48.786801</td>\n",
       "      <td>0</td>\n",
       "      <td>Propriva</td>\n",
       "      <td>Female</td>\n",
       "      <td>21</td>\n",
       "      <td>26</td>\n",
       "    </tr>\n",
       "    <tr>\n",
       "      <th>360</th>\n",
       "      <td>g989</td>\n",
       "      <td>5</td>\n",
       "      <td>47.570392</td>\n",
       "      <td>0</td>\n",
       "      <td>Propriva</td>\n",
       "      <td>Female</td>\n",
       "      <td>21</td>\n",
       "      <td>26</td>\n",
       "    </tr>\n",
       "    <tr>\n",
       "      <th>620</th>\n",
       "      <td>g989</td>\n",
       "      <td>10</td>\n",
       "      <td>51.745156</td>\n",
       "      <td>0</td>\n",
       "      <td>Propriva</td>\n",
       "      <td>Female</td>\n",
       "      <td>21</td>\n",
       "      <td>26</td>\n",
       "    </tr>\n",
       "    <tr>\n",
       "      <th>681</th>\n",
       "      <td>g989</td>\n",
       "      <td>10</td>\n",
       "      <td>49.880528</td>\n",
       "      <td>0</td>\n",
       "      <td>Propriva</td>\n",
       "      <td>Female</td>\n",
       "      <td>21</td>\n",
       "      <td>26</td>\n",
       "    </tr>\n",
       "    <tr>\n",
       "      <th>815</th>\n",
       "      <td>g989</td>\n",
       "      <td>15</td>\n",
       "      <td>51.325852</td>\n",
       "      <td>1</td>\n",
       "      <td>Propriva</td>\n",
       "      <td>Female</td>\n",
       "      <td>21</td>\n",
       "      <td>26</td>\n",
       "    </tr>\n",
       "    <tr>\n",
       "      <th>869</th>\n",
       "      <td>g989</td>\n",
       "      <td>15</td>\n",
       "      <td>53.442020</td>\n",
       "      <td>0</td>\n",
       "      <td>Propriva</td>\n",
       "      <td>Female</td>\n",
       "      <td>21</td>\n",
       "      <td>26</td>\n",
       "    </tr>\n",
       "    <tr>\n",
       "      <th>950</th>\n",
       "      <td>g989</td>\n",
       "      <td>20</td>\n",
       "      <td>55.326122</td>\n",
       "      <td>1</td>\n",
       "      <td>Propriva</td>\n",
       "      <td>Female</td>\n",
       "      <td>21</td>\n",
       "      <td>26</td>\n",
       "    </tr>\n",
       "    <tr>\n",
       "      <th>1111</th>\n",
       "      <td>g989</td>\n",
       "      <td>20</td>\n",
       "      <td>54.657650</td>\n",
       "      <td>1</td>\n",
       "      <td>Propriva</td>\n",
       "      <td>Female</td>\n",
       "      <td>21</td>\n",
       "      <td>26</td>\n",
       "    </tr>\n",
       "    <tr>\n",
       "      <th>1195</th>\n",
       "      <td>g989</td>\n",
       "      <td>25</td>\n",
       "      <td>56.045564</td>\n",
       "      <td>1</td>\n",
       "      <td>Propriva</td>\n",
       "      <td>Female</td>\n",
       "      <td>21</td>\n",
       "      <td>26</td>\n",
       "    </tr>\n",
       "    <tr>\n",
       "      <th>1380</th>\n",
       "      <td>g989</td>\n",
       "      <td>30</td>\n",
       "      <td>59.082294</td>\n",
       "      <td>1</td>\n",
       "      <td>Propriva</td>\n",
       "      <td>Female</td>\n",
       "      <td>21</td>\n",
       "      <td>26</td>\n",
       "    </tr>\n",
       "    <tr>\n",
       "      <th>1592</th>\n",
       "      <td>g989</td>\n",
       "      <td>35</td>\n",
       "      <td>62.570880</td>\n",
       "      <td>2</td>\n",
       "      <td>Propriva</td>\n",
       "      <td>Female</td>\n",
       "      <td>21</td>\n",
       "      <td>26</td>\n",
       "    </tr>\n",
       "  </tbody>\n",
       "</table>\n",
       "</div>"
      ],
      "text/plain": [
       "     Mouse ID  Timepoint  Tumor Volume (mm3)  Metastatic Sites Drug Regimen  \\\n",
       "107      g989          0           45.000000                 0     Propriva   \n",
       "137      g989          0           45.000000                 0     Propriva   \n",
       "329      g989          5           48.786801                 0     Propriva   \n",
       "360      g989          5           47.570392                 0     Propriva   \n",
       "620      g989         10           51.745156                 0     Propriva   \n",
       "681      g989         10           49.880528                 0     Propriva   \n",
       "815      g989         15           51.325852                 1     Propriva   \n",
       "869      g989         15           53.442020                 0     Propriva   \n",
       "950      g989         20           55.326122                 1     Propriva   \n",
       "1111     g989         20           54.657650                 1     Propriva   \n",
       "1195     g989         25           56.045564                 1     Propriva   \n",
       "1380     g989         30           59.082294                 1     Propriva   \n",
       "1592     g989         35           62.570880                 2     Propriva   \n",
       "\n",
       "         Sex  Age_months  Weight (g)  \n",
       "107   Female          21          26  \n",
       "137   Female          21          26  \n",
       "329   Female          21          26  \n",
       "360   Female          21          26  \n",
       "620   Female          21          26  \n",
       "681   Female          21          26  \n",
       "815   Female          21          26  \n",
       "869   Female          21          26  \n",
       "950   Female          21          26  \n",
       "1111  Female          21          26  \n",
       "1195  Female          21          26  \n",
       "1380  Female          21          26  \n",
       "1592  Female          21          26  "
      ]
     },
     "execution_count": 10,
     "metadata": {},
     "output_type": "execute_result"
    }
   ],
   "source": [
    "# Show all rows for g989 mouse\n",
    "study_df.loc[study_df['Mouse ID'] == 'g989', :]"
   ]
  },
  {
   "cell_type": "markdown",
   "id": "e2ee8691",
   "metadata": {},
   "source": [
    "Looking at all rows for the g989 ID shows duplicate data was recorded for this Mouse ID across multiple Timepoints. One possibility is that in the study, the data was entered for the wrong mouse under this ID. Another possibility is that multiple data was accidently taken for this mouse. Since the origin of the data is not know, it is not valid and is removed from the rest of the analyis; all rows with data for Mouse Id g989 are removed from the df."
   ]
  },
  {
   "cell_type": "code",
   "execution_count": 11,
   "id": "80b9fb4f",
   "metadata": {},
   "outputs": [],
   "source": [
    "# Drop all the rows linked to mouse ID g989\n",
    "study_df.drop(index=[107,137,329,360,620,681,815,869,950,1111,1195,1380,1592], inplace=True)\n",
    "mouse_df.drop(index=107, inplace=True)"
   ]
  },
  {
   "cell_type": "code",
   "execution_count": 12,
   "id": "f29ac713",
   "metadata": {},
   "outputs": [
    {
     "data": {
      "text/plain": [
       "248"
      ]
     },
     "execution_count": 12,
     "metadata": {},
     "output_type": "execute_result"
    }
   ],
   "source": [
    "# Show new length of unique mouse IDs after dropping g989\n",
    "len(study_df['Mouse ID'].unique())"
   ]
  },
  {
   "cell_type": "markdown",
   "id": "1c5d9a8b",
   "metadata": {},
   "source": [
    "The new number of unique Mouse Ids is 248, since g989 was removed. The study_df dataframe is used for the remainder of the analysis. Each row includes all mouse specific data and tumor volume and metastatic sites for specific timestamp."
   ]
  },
  {
   "cell_type": "markdown",
   "id": "517bcda0",
   "metadata": {},
   "source": [
    "## Summary Statistics\n",
    "With cleaned up data, a summary statistics table is prooduced showing the central tendancy of the Volume of Tumor for each drug regiment in the study. It is important to note that all values on the tumor volume are incuded for each regiment meaning that as single mouse will be included several times across multiple timepoints. "
   ]
  },
  {
   "cell_type": "code",
   "execution_count": 13,
   "id": "a1e77554",
   "metadata": {},
   "outputs": [
    {
     "data": {
      "text/html": [
       "<div>\n",
       "<style scoped>\n",
       "    .dataframe tbody tr th:only-of-type {\n",
       "        vertical-align: middle;\n",
       "    }\n",
       "\n",
       "    .dataframe tbody tr th {\n",
       "        vertical-align: top;\n",
       "    }\n",
       "\n",
       "    .dataframe thead th {\n",
       "        text-align: right;\n",
       "    }\n",
       "</style>\n",
       "<table border=\"1\" class=\"dataframe\">\n",
       "  <thead>\n",
       "    <tr style=\"text-align: right;\">\n",
       "      <th></th>\n",
       "      <th>Mean</th>\n",
       "      <th>Median</th>\n",
       "      <th>Variance</th>\n",
       "      <th>std</th>\n",
       "      <th>SEM</th>\n",
       "    </tr>\n",
       "    <tr>\n",
       "      <th>Drug Regimen</th>\n",
       "      <th></th>\n",
       "      <th></th>\n",
       "      <th></th>\n",
       "      <th></th>\n",
       "      <th></th>\n",
       "    </tr>\n",
       "  </thead>\n",
       "  <tbody>\n",
       "    <tr>\n",
       "      <th>Capomulin</th>\n",
       "      <td>40.675741</td>\n",
       "      <td>41.557809</td>\n",
       "      <td>24.947764</td>\n",
       "      <td>4.994774</td>\n",
       "      <td>0.329346</td>\n",
       "    </tr>\n",
       "    <tr>\n",
       "      <th>Ceftamin</th>\n",
       "      <td>52.591172</td>\n",
       "      <td>51.776157</td>\n",
       "      <td>39.290177</td>\n",
       "      <td>6.268188</td>\n",
       "      <td>0.469821</td>\n",
       "    </tr>\n",
       "    <tr>\n",
       "      <th>Infubinol</th>\n",
       "      <td>52.884795</td>\n",
       "      <td>51.820584</td>\n",
       "      <td>43.128684</td>\n",
       "      <td>6.567243</td>\n",
       "      <td>0.492236</td>\n",
       "    </tr>\n",
       "    <tr>\n",
       "      <th>Ketapril</th>\n",
       "      <td>55.235638</td>\n",
       "      <td>53.698743</td>\n",
       "      <td>68.553577</td>\n",
       "      <td>8.279709</td>\n",
       "      <td>0.603860</td>\n",
       "    </tr>\n",
       "    <tr>\n",
       "      <th>Naftisol</th>\n",
       "      <td>54.331565</td>\n",
       "      <td>52.509285</td>\n",
       "      <td>66.173479</td>\n",
       "      <td>8.134708</td>\n",
       "      <td>0.596466</td>\n",
       "    </tr>\n",
       "    <tr>\n",
       "      <th>Placebo</th>\n",
       "      <td>54.033581</td>\n",
       "      <td>52.288934</td>\n",
       "      <td>61.168083</td>\n",
       "      <td>7.821003</td>\n",
       "      <td>0.581331</td>\n",
       "    </tr>\n",
       "    <tr>\n",
       "      <th>Propriva</th>\n",
       "      <td>52.320930</td>\n",
       "      <td>50.446266</td>\n",
       "      <td>43.852013</td>\n",
       "      <td>6.622085</td>\n",
       "      <td>0.544332</td>\n",
       "    </tr>\n",
       "    <tr>\n",
       "      <th>Ramicane</th>\n",
       "      <td>40.216745</td>\n",
       "      <td>40.673236</td>\n",
       "      <td>23.486704</td>\n",
       "      <td>4.846308</td>\n",
       "      <td>0.320955</td>\n",
       "    </tr>\n",
       "    <tr>\n",
       "      <th>Stelasyn</th>\n",
       "      <td>54.233149</td>\n",
       "      <td>52.431737</td>\n",
       "      <td>59.450562</td>\n",
       "      <td>7.710419</td>\n",
       "      <td>0.573111</td>\n",
       "    </tr>\n",
       "    <tr>\n",
       "      <th>Zoniferol</th>\n",
       "      <td>53.236507</td>\n",
       "      <td>51.818479</td>\n",
       "      <td>48.533355</td>\n",
       "      <td>6.966589</td>\n",
       "      <td>0.516398</td>\n",
       "    </tr>\n",
       "  </tbody>\n",
       "</table>\n",
       "</div>"
      ],
      "text/plain": [
       "                   Mean     Median   Variance       std       SEM\n",
       "Drug Regimen                                                     \n",
       "Capomulin     40.675741  41.557809  24.947764  4.994774  0.329346\n",
       "Ceftamin      52.591172  51.776157  39.290177  6.268188  0.469821\n",
       "Infubinol     52.884795  51.820584  43.128684  6.567243  0.492236\n",
       "Ketapril      55.235638  53.698743  68.553577  8.279709  0.603860\n",
       "Naftisol      54.331565  52.509285  66.173479  8.134708  0.596466\n",
       "Placebo       54.033581  52.288934  61.168083  7.821003  0.581331\n",
       "Propriva      52.320930  50.446266  43.852013  6.622085  0.544332\n",
       "Ramicane      40.216745  40.673236  23.486704  4.846308  0.320955\n",
       "Stelasyn      54.233149  52.431737  59.450562  7.710419  0.573111\n",
       "Zoniferol     53.236507  51.818479  48.533355  6.966589  0.516398"
      ]
     },
     "execution_count": 13,
     "metadata": {},
     "output_type": "execute_result"
    }
   ],
   "source": [
    "# Intialize summary df\n",
    "summary_df = pd.DataFrame()\n",
    "\n",
    "# Group rows by drug regimen mean, median, variance, std and sem to fill in summary table\n",
    "summary_df['Mean'] = study_df.groupby('Drug Regimen').mean()['Tumor Volume (mm3)']\n",
    "summary_df['Median'] = study_df.groupby('Drug Regimen').median()['Tumor Volume (mm3)']\n",
    "summary_df['Variance'] = study_df.groupby('Drug Regimen').var()['Tumor Volume (mm3)']\n",
    "summary_df['std'] = study_df.groupby('Drug Regimen').std()['Tumor Volume (mm3)']\n",
    "summary_df['SEM'] = study_df.groupby('Drug Regimen').sem()['Tumor Volume (mm3)']\n",
    "\n",
    "summary_df"
   ]
  },
  {
   "cell_type": "markdown",
   "id": "b9f42a81",
   "metadata": {},
   "source": [
    "One thing to note is that tumor volume does not appear to be a scewed distribution since the medians and means are relatively close to each other. Additionally, the standard errors (SEM) are small commpared to the means, indicating that the data is tightly distributed around the mean. "
   ]
  },
  {
   "cell_type": "code",
   "execution_count": 14,
   "id": "6a94be6a",
   "metadata": {},
   "outputs": [
    {
     "data": {
      "text/html": [
       "<div>\n",
       "<style scoped>\n",
       "    .dataframe tbody tr th:only-of-type {\n",
       "        vertical-align: middle;\n",
       "    }\n",
       "\n",
       "    .dataframe tbody tr th {\n",
       "        vertical-align: top;\n",
       "    }\n",
       "\n",
       "    .dataframe thead th {\n",
       "        text-align: right;\n",
       "    }\n",
       "</style>\n",
       "<table border=\"1\" class=\"dataframe\">\n",
       "  <thead>\n",
       "    <tr style=\"text-align: right;\">\n",
       "      <th></th>\n",
       "      <th>Mean</th>\n",
       "      <th>Meadian</th>\n",
       "      <th>Variance</th>\n",
       "      <th>std</th>\n",
       "      <th>SEM</th>\n",
       "    </tr>\n",
       "    <tr>\n",
       "      <th>Drug Regimen</th>\n",
       "      <th></th>\n",
       "      <th></th>\n",
       "      <th></th>\n",
       "      <th></th>\n",
       "      <th></th>\n",
       "    </tr>\n",
       "  </thead>\n",
       "  <tbody>\n",
       "    <tr>\n",
       "      <th>Capomulin</th>\n",
       "      <td>40.675741</td>\n",
       "      <td>41.557809</td>\n",
       "      <td>24.947764</td>\n",
       "      <td>4.994774</td>\n",
       "      <td>0.329346</td>\n",
       "    </tr>\n",
       "    <tr>\n",
       "      <th>Ceftamin</th>\n",
       "      <td>52.591172</td>\n",
       "      <td>51.776157</td>\n",
       "      <td>39.290177</td>\n",
       "      <td>6.268188</td>\n",
       "      <td>0.469821</td>\n",
       "    </tr>\n",
       "    <tr>\n",
       "      <th>Infubinol</th>\n",
       "      <td>52.884795</td>\n",
       "      <td>51.820584</td>\n",
       "      <td>43.128684</td>\n",
       "      <td>6.567243</td>\n",
       "      <td>0.492236</td>\n",
       "    </tr>\n",
       "    <tr>\n",
       "      <th>Ketapril</th>\n",
       "      <td>55.235638</td>\n",
       "      <td>53.698743</td>\n",
       "      <td>68.553577</td>\n",
       "      <td>8.279709</td>\n",
       "      <td>0.603860</td>\n",
       "    </tr>\n",
       "    <tr>\n",
       "      <th>Naftisol</th>\n",
       "      <td>54.331565</td>\n",
       "      <td>52.509285</td>\n",
       "      <td>66.173479</td>\n",
       "      <td>8.134708</td>\n",
       "      <td>0.596466</td>\n",
       "    </tr>\n",
       "    <tr>\n",
       "      <th>Placebo</th>\n",
       "      <td>54.033581</td>\n",
       "      <td>52.288934</td>\n",
       "      <td>61.168083</td>\n",
       "      <td>7.821003</td>\n",
       "      <td>0.581331</td>\n",
       "    </tr>\n",
       "    <tr>\n",
       "      <th>Propriva</th>\n",
       "      <td>52.320930</td>\n",
       "      <td>50.446266</td>\n",
       "      <td>43.852013</td>\n",
       "      <td>6.622085</td>\n",
       "      <td>0.544332</td>\n",
       "    </tr>\n",
       "    <tr>\n",
       "      <th>Ramicane</th>\n",
       "      <td>40.216745</td>\n",
       "      <td>40.673236</td>\n",
       "      <td>23.486704</td>\n",
       "      <td>4.846308</td>\n",
       "      <td>0.320955</td>\n",
       "    </tr>\n",
       "    <tr>\n",
       "      <th>Stelasyn</th>\n",
       "      <td>54.233149</td>\n",
       "      <td>52.431737</td>\n",
       "      <td>59.450562</td>\n",
       "      <td>7.710419</td>\n",
       "      <td>0.573111</td>\n",
       "    </tr>\n",
       "    <tr>\n",
       "      <th>Zoniferol</th>\n",
       "      <td>53.236507</td>\n",
       "      <td>51.818479</td>\n",
       "      <td>48.533355</td>\n",
       "      <td>6.966589</td>\n",
       "      <td>0.516398</td>\n",
       "    </tr>\n",
       "  </tbody>\n",
       "</table>\n",
       "</div>"
      ],
      "text/plain": [
       "                   Mean    Meadian   Variance       std       SEM\n",
       "Drug Regimen                                                     \n",
       "Capomulin     40.675741  41.557809  24.947764  4.994774  0.329346\n",
       "Ceftamin      52.591172  51.776157  39.290177  6.268188  0.469821\n",
       "Infubinol     52.884795  51.820584  43.128684  6.567243  0.492236\n",
       "Ketapril      55.235638  53.698743  68.553577  8.279709  0.603860\n",
       "Naftisol      54.331565  52.509285  66.173479  8.134708  0.596466\n",
       "Placebo       54.033581  52.288934  61.168083  7.821003  0.581331\n",
       "Propriva      52.320930  50.446266  43.852013  6.622085  0.544332\n",
       "Ramicane      40.216745  40.673236  23.486704  4.846308  0.320955\n",
       "Stelasyn      54.233149  52.431737  59.450562  7.710419  0.573111\n",
       "Zoniferol     53.236507  51.818479  48.533355  6.966589  0.516398"
      ]
     },
     "execution_count": 14,
     "metadata": {},
     "output_type": "execute_result"
    }
   ],
   "source": [
    "# Compute the same table from above using a groupby/aggregate method instead\n",
    "summary_df = study_df.groupby('Drug Regimen').agg(Mean=('Tumor Volume (mm3)','mean'),\n",
    "                                                 Meadian=('Tumor Volume (mm3)','median'),\n",
    "                                                 Variance=('Tumor Volume (mm3)','var'),\n",
    "                                                 std=('Tumor Volume (mm3)','std'),\n",
    "                                                 SEM=('Tumor Volume (mm3)','sem'))\n",
    "summary_df"
   ]
  },
  {
   "cell_type": "markdown",
   "id": "e71000ff",
   "metadata": {},
   "source": [
    " ## Number of Timepoints (Bar Chart)\n",
    " The following bar gragh shows how many timepoints were collected for each drug regimen and shows how much data is available for each regimen. This is a reflection on the study's setup - how many mice were selected for each regimen - as well as a reflection of the results - more timepoints per mouse indicates mice living longer."
   ]
  },
  {
   "cell_type": "code",
   "execution_count": 15,
   "id": "69a962b1",
   "metadata": {},
   "outputs": [
    {
     "data": {
      "image/png": "[encoded data removed]",
      "text/plain": [
       "<Figure size 432x288 with 1 Axes>"
      ]
     },
     "metadata": {
      "needs_background": "light"
     },
     "output_type": "display_data"
    }
   ],
   "source": [
    "# Create df that holds the total number of timepoints by each drug\n",
    "timepoint_counts_by_drug = study_df.groupby('Drug Regimen').count()['Timepoint']\n",
    "\n",
    "# Plot the above data uding the pandas.DataFrame.plot method\n",
    "timepoint_counts_by_drug.plot(kind='bar', ylabel='# of Timpoints', title='Total Number of Timepoints for Mice Tested')\n",
    "plt.show()"
   ]
  },
  {
   "cell_type": "code",
   "execution_count": 16,
   "id": "e67a1ea9",
   "metadata": {},
   "outputs": [
    {
     "data": {
      "image/png": "[encoded data removed]",
      "text/plain": [
       "<Figure size 432x288 with 1 Axes>"
      ]
     },
     "metadata": {
      "needs_background": "light"
     },
     "output_type": "display_data"
    }
   ],
   "source": [
    "# Create 10 locations (one for each unique drug in study)\n",
    "x_axis = np.arange(len(timepoint_counts_by_drug))\n",
    "\n",
    "# Create a list (df) of all the drug names, alphabetized\n",
    "labels = study_df.sort_values('Drug Regimen')['Drug Regimen'].unique()\n",
    "\n",
    "# Plot df using the matplotlib.pyplot.plot method\n",
    "plt.bar(x_axis, timepoint_counts_by_drug, width=.5)\n",
    "plt.xticks(x_axis, labels, rotation='vertical')\n",
    "plt.xlim(-0.5, len(x_axis)-0.5)\n",
    "plt.xlabel('Drug Regimen')\n",
    "plt.ylabel('# of Timepoints')\n",
    "plt.title('Total Number of Timepoints for Mice Tested')\n",
    "plt.show()"
   ]
  },
  {
   "cell_type": "markdown",
   "id": "e0cbf316",
   "metadata": {},
   "source": [
    "## Number of Mice by Sex (Pie Chart)\n",
    "The following pie charts show the total number of mice for each sex included in the study. The study was faily evenly distributed between sex and therefore, there is no reason to believe the results of the study are restricted to a particular sex."
   ]
  },
  {
   "cell_type": "code",
   "execution_count": 17,
   "id": "26977df9",
   "metadata": {},
   "outputs": [
    {
     "data": {
      "image/png": "[encoded data removed]",
      "text/plain": [
       "<Figure size 432x288 with 1 Axes>"
      ]
     },
     "metadata": {},
     "output_type": "display_data"
    }
   ],
   "source": [
    "# Plot number of each sex in pie chart using the pandas.DataFrame.plot method\n",
    "mouse_df.groupby('Sex').count()['Mouse ID'].plot(kind='pie', ylabel='', autopct='%.1f%%', shadow=True, startangle=45, explode=[.05,0])\n",
    "plt.show()"
   ]
  },
  {
   "cell_type": "code",
   "execution_count": 18,
   "id": "0e31d8fd",
   "metadata": {},
   "outputs": [
    {
     "data": {
      "image/png": "[encoded data removed]",
      "text/plain": [
       "<Figure size 432x288 with 1 Axes>"
      ]
     },
     "metadata": {},
     "output_type": "display_data"
    }
   ],
   "source": [
    "# Store the conut of each sex in df \n",
    "sex_counts = mouse_df.groupby('Sex', as_index=False).count()['Mouse ID']\n",
    "\n",
    "# Store all the different sexes in list\n",
    "labels = mouse_df.groupby('Sex', as_index=False).count()['Sex']\n",
    "\n",
    "# Plot pie chart using matplotlib.pyplot.plot method\n",
    "plt.pie(sex_counts, labels=labels, autopct='%.1f%%', shadow=True, startangle=45, explode=[.05,0])\n",
    "plt.show()"
   ]
  },
  {
   "cell_type": "markdown",
   "id": "0500dab8",
   "metadata": {},
   "source": [
    "## Final Tumor Volume Summary Table by Drug Regimen"
   ]
  },
  {
   "cell_type": "code",
   "execution_count": 19,
   "id": "e97dfb9e",
   "metadata": {},
   "outputs": [],
   "source": [
    "# Create df that stores maximum timepoint for each mouse ID\n",
    "greatest_timepoint_by_ID = study_df.groupby('Mouse ID').max()['Timepoint']\n",
    "\n",
    "# Merge new df with original on ID and timepoint for each pair of ID and timepoint from the new df (the one that only has the maximun timepoints)\n",
    "greatest_timepoint_by_ID = pd.merge(greatest_timepoint_by_ID, study_df, on=['Mouse ID','Timepoint'], how='left')\n",
    "\n",
    "# Create a list of Drug Regimens of interest\n",
    "drugs = ['Capomulin', 'Ramicane', 'Infubinol', 'Ceftamin']\n",
    "\n",
    "# Intiate some lists to store data from the following for loop:\n",
    "final_volume_list = []\n",
    "outlier_list = []\n",
    "volume_by_drug_summary = pd.DataFrame()\n",
    "\n",
    "# Loop through the different drug regimens\n",
    "for index, drug in enumerate(drugs):\n",
    "    \n",
    "    # Get all tumor volumes at max timepoint for current regimen\n",
    "    final_volume = greatest_timepoint_by_ID.loc[greatest_timepoint_by_ID['Drug Regimen'] == drug, :]\n",
    "    \n",
    "    # Store the tumor volume data as a list as the first entry in the volume list\n",
    "    final_volume_list.append(final_volume['Tumor Volume (mm3)'])\n",
    "    \n",
    "    # Read quartiles and fill in summary table\n",
    "    quars = final_volume_list[index].quantile([.25,.5,.75])\n",
    "    volume_by_drug_summary.loc[drug, 'Q1'] = quars[.25]\n",
    "    volume_by_drug_summary.loc[drug, 'Median'] = quars[.5]\n",
    "    volume_by_drug_summary.loc[drug, 'Q3'] = quars[.75]\n",
    "    volume_by_drug_summary.loc[drug, 'IQR'] = quars[.75] - quars[.25]\n",
    "    volume_by_drug_summary.loc[drug, 'Lower Bound'] = quars[.25] - 1.5 * (quars[.75] - quars[.25])\n",
    "    volume_by_drug_summary.loc[drug, 'Upper Bound'] = quars[.75] + 1.5 * (quars[.75] - quars[.25])\n",
    "    volume_by_drug_summary.loc[drug, 'Number of Outliers'] = final_volume.loc[(final_volume['Tumor Volume (mm3)'] > volume_by_drug_summary.loc[drug, 'Upper Bound']) | (final_volume['Tumor Volume (mm3)'] < volume_by_drug_summary.loc[drug, 'Lower Bound']), 'Tumor Volume (mm3)'].count()    \n",
    "    \n",
    "    # Fill list of outliers\n",
    "    outlier_list.append(final_volume.loc[(final_volume['Tumor Volume (mm3)'] > volume_by_drug_summary.loc[drug, 'Upper Bound']) | (final_volume['Tumor Volume (mm3)'] < volume_by_drug_summary.loc[drug, 'Lower Bound']), :])"
   ]
  },
  {
   "cell_type": "markdown",
   "id": "7637e197",
   "metadata": {},
   "source": [
    "Summary table of final tumor volume for each drug regimen:"
   ]
  },
  {
   "cell_type": "code",
   "execution_count": 20,
   "id": "5c71028e",
   "metadata": {
    "scrolled": true
   },
   "outputs": [
    {
     "data": {
      "text/html": [
       "<div>\n",
       "<style scoped>\n",
       "    .dataframe tbody tr th:only-of-type {\n",
       "        vertical-align: middle;\n",
       "    }\n",
       "\n",
       "    .dataframe tbody tr th {\n",
       "        vertical-align: top;\n",
       "    }\n",
       "\n",
       "    .dataframe thead th {\n",
       "        text-align: right;\n",
       "    }\n",
       "</style>\n",
       "<table border=\"1\" class=\"dataframe\">\n",
       "  <thead>\n",
       "    <tr style=\"text-align: right;\">\n",
       "      <th></th>\n",
       "      <th>Q1</th>\n",
       "      <th>Median</th>\n",
       "      <th>Q3</th>\n",
       "      <th>IQR</th>\n",
       "      <th>Lower Bound</th>\n",
       "      <th>Upper Bound</th>\n",
       "      <th>Number of Outliers</th>\n",
       "    </tr>\n",
       "  </thead>\n",
       "  <tbody>\n",
       "    <tr>\n",
       "      <th>Capomulin</th>\n",
       "      <td>32.377357</td>\n",
       "      <td>38.125164</td>\n",
       "      <td>40.159220</td>\n",
       "      <td>7.781863</td>\n",
       "      <td>20.704562</td>\n",
       "      <td>51.832015</td>\n",
       "      <td>0.0</td>\n",
       "    </tr>\n",
       "    <tr>\n",
       "      <th>Ramicane</th>\n",
       "      <td>31.560470</td>\n",
       "      <td>36.561652</td>\n",
       "      <td>40.659006</td>\n",
       "      <td>9.098537</td>\n",
       "      <td>17.912664</td>\n",
       "      <td>54.306811</td>\n",
       "      <td>0.0</td>\n",
       "    </tr>\n",
       "    <tr>\n",
       "      <th>Infubinol</th>\n",
       "      <td>54.048608</td>\n",
       "      <td>60.165180</td>\n",
       "      <td>65.525743</td>\n",
       "      <td>11.477135</td>\n",
       "      <td>36.832905</td>\n",
       "      <td>82.741446</td>\n",
       "      <td>1.0</td>\n",
       "    </tr>\n",
       "    <tr>\n",
       "      <th>Ceftamin</th>\n",
       "      <td>48.722078</td>\n",
       "      <td>59.851956</td>\n",
       "      <td>64.299830</td>\n",
       "      <td>15.577752</td>\n",
       "      <td>25.355450</td>\n",
       "      <td>87.666458</td>\n",
       "      <td>0.0</td>\n",
       "    </tr>\n",
       "  </tbody>\n",
       "</table>\n",
       "</div>"
      ],
      "text/plain": [
       "                  Q1     Median         Q3        IQR  Lower Bound  \\\n",
       "Capomulin  32.377357  38.125164  40.159220   7.781863    20.704562   \n",
       "Ramicane   31.560470  36.561652  40.659006   9.098537    17.912664   \n",
       "Infubinol  54.048608  60.165180  65.525743  11.477135    36.832905   \n",
       "Ceftamin   48.722078  59.851956  64.299830  15.577752    25.355450   \n",
       "\n",
       "           Upper Bound  Number of Outliers  \n",
       "Capomulin    51.832015                 0.0  \n",
       "Ramicane     54.306811                 0.0  \n",
       "Infubinol    82.741446                 1.0  \n",
       "Ceftamin     87.666458                 0.0  "
      ]
     },
     "execution_count": 20,
     "metadata": {},
     "output_type": "execute_result"
    }
   ],
   "source": [
    "# Show the summary table created with the previous code\n",
    "volume_by_drug_summary"
   ]
  },
  {
   "cell_type": "markdown",
   "id": "b9815f7f",
   "metadata": {},
   "source": [
    "The only potential outlier is for Infubinol: mouse c326."
   ]
  },
  {
   "cell_type": "code",
   "execution_count": 21,
   "id": "43379057",
   "metadata": {},
   "outputs": [
    {
     "data": {
      "text/html": [
       "<div>\n",
       "<style scoped>\n",
       "    .dataframe tbody tr th:only-of-type {\n",
       "        vertical-align: middle;\n",
       "    }\n",
       "\n",
       "    .dataframe tbody tr th {\n",
       "        vertical-align: top;\n",
       "    }\n",
       "\n",
       "    .dataframe thead th {\n",
       "        text-align: right;\n",
       "    }\n",
       "</style>\n",
       "<table border=\"1\" class=\"dataframe\">\n",
       "  <thead>\n",
       "    <tr style=\"text-align: right;\">\n",
       "      <th></th>\n",
       "      <th>Mouse ID</th>\n",
       "      <th>Timepoint</th>\n",
       "      <th>Tumor Volume (mm3)</th>\n",
       "      <th>Metastatic Sites</th>\n",
       "      <th>Drug Regimen</th>\n",
       "      <th>Sex</th>\n",
       "      <th>Age_months</th>\n",
       "      <th>Weight (g)</th>\n",
       "    </tr>\n",
       "  </thead>\n",
       "  <tbody>\n",
       "    <tr>\n",
       "      <th>31</th>\n",
       "      <td>c326</td>\n",
       "      <td>5</td>\n",
       "      <td>36.321346</td>\n",
       "      <td>0</td>\n",
       "      <td>Infubinol</td>\n",
       "      <td>Female</td>\n",
       "      <td>18</td>\n",
       "      <td>25</td>\n",
       "    </tr>\n",
       "  </tbody>\n",
       "</table>\n",
       "</div>"
      ],
      "text/plain": [
       "   Mouse ID  Timepoint  Tumor Volume (mm3)  Metastatic Sites Drug Regimen  \\\n",
       "31     c326          5           36.321346                 0    Infubinol   \n",
       "\n",
       "       Sex  Age_months  Weight (g)  \n",
       "31  Female          18          25  "
      ]
     },
     "execution_count": 21,
     "metadata": {},
     "output_type": "execute_result"
    }
   ],
   "source": [
    "# Show the 3rd element of the outlier list which is the oulier(s) for Infubinol\n",
    "outlier_list[2]"
   ]
  },
  {
   "cell_type": "markdown",
   "id": "de919d83",
   "metadata": {},
   "source": [
    "## Final Tumor Volume Box Plot"
   ]
  },
  {
   "cell_type": "code",
   "execution_count": 22,
   "id": "b98128e7",
   "metadata": {},
   "outputs": [
    {
     "data": {
      "image/png": "[encoded data removed]",
      "text/plain": [
       "<Figure size 432x288 with 4 Axes>"
      ]
     },
     "metadata": {
      "needs_background": "light"
     },
     "output_type": "display_data"
    }
   ],
   "source": [
    "#Create subplots and color outliesr\n",
    "fig, (ax0, ax1, ax2, ax3) = plt.subplots(ncols=4, sharey=True)\n",
    "ax0.boxplot(final_volume_list[0], labels=['Capomulin'], flierprops={'markerfacecolor':'r','marker':'s'})\n",
    "ax1.boxplot(final_volume_list[1], labels=['Ramicane'], flierprops={'markerfacecolor':'r','marker':'s'})\n",
    "ax2.boxplot(final_volume_list[2], labels=['Infubinol'], flierprops={'markerfacecolor':'r','marker':'s'})\n",
    "ax3.boxplot(final_volume_list[3], labels=['Ceftamin'], flierprops={'markerfacecolor':'r','marker':'s'})\n",
    "plt.show()"
   ]
  },
  {
   "cell_type": "markdown",
   "id": "7937dbed",
   "metadata": {},
   "source": [
    "The above set of boxplots show the distribution of final tumor volumes by drug regimen type. The main take away is that both Capomulin and Ramicane are much more effective that Infubinol and Ceftamin at reducing tumor volume. This is a strong indicator that both Capomulin and Ramicane are successful at reducing Tumor volume. While Infubinol does include one outlier tumor volume value, Mouse ID c326, that is it well into the range of values for Capomulin and Ramicane. The final timpoint for this mouse is 5 days meaning the mouse most likely died less than 10 days in the study. From the data it is not clear if this was systematic error or if this mouse really did decrease in tumor volume in 5 days and then pass. Either way, Infubinol's distribution is much higher than the Capomulin and Ramicane."
   ]
  },
  {
   "cell_type": "markdown",
   "id": "00cf7dd3",
   "metadata": {},
   "source": [
    "## Tumor Volume Over Time Line Plot"
   ]
  },
  {
   "cell_type": "code",
   "execution_count": 23,
   "id": "fb3e6291",
   "metadata": {},
   "outputs": [],
   "source": [
    "# Get rows from original df with Capomulon drug regimen\n",
    "capomulin_df = study_df.loc[study_df['Drug Regimen'] == 'Capomulin', :]\n",
    "\n",
    "# Pick a random Mouse ID from the capomulin df\n",
    "rand_ID = rd.choice(list(capomulin_df['Mouse ID']))"
   ]
  },
  {
   "cell_type": "code",
   "execution_count": 24,
   "id": "61375787",
   "metadata": {},
   "outputs": [
    {
     "data": {
      "text/html": [
       "<div>\n",
       "<style scoped>\n",
       "    .dataframe tbody tr th:only-of-type {\n",
       "        vertical-align: middle;\n",
       "    }\n",
       "\n",
       "    .dataframe tbody tr th {\n",
       "        vertical-align: top;\n",
       "    }\n",
       "\n",
       "    .dataframe thead th {\n",
       "        text-align: right;\n",
       "    }\n",
       "</style>\n",
       "<table border=\"1\" class=\"dataframe\">\n",
       "  <thead>\n",
       "    <tr style=\"text-align: right;\">\n",
       "      <th></th>\n",
       "      <th>Mouse ID</th>\n",
       "      <th>Timepoint</th>\n",
       "      <th>Tumor Volume (mm3)</th>\n",
       "      <th>Metastatic Sites</th>\n",
       "      <th>Drug Regimen</th>\n",
       "      <th>Sex</th>\n",
       "      <th>Age_months</th>\n",
       "      <th>Weight (g)</th>\n",
       "    </tr>\n",
       "  </thead>\n",
       "  <tbody>\n",
       "    <tr>\n",
       "      <th>237</th>\n",
       "      <td>w914</td>\n",
       "      <td>0</td>\n",
       "      <td>45.000000</td>\n",
       "      <td>0</td>\n",
       "      <td>Capomulin</td>\n",
       "      <td>Male</td>\n",
       "      <td>24</td>\n",
       "      <td>21</td>\n",
       "    </tr>\n",
       "    <tr>\n",
       "      <th>309</th>\n",
       "      <td>w914</td>\n",
       "      <td>5</td>\n",
       "      <td>45.893720</td>\n",
       "      <td>0</td>\n",
       "      <td>Capomulin</td>\n",
       "      <td>Male</td>\n",
       "      <td>24</td>\n",
       "      <td>21</td>\n",
       "    </tr>\n",
       "    <tr>\n",
       "      <th>645</th>\n",
       "      <td>w914</td>\n",
       "      <td>10</td>\n",
       "      <td>43.231963</td>\n",
       "      <td>0</td>\n",
       "      <td>Capomulin</td>\n",
       "      <td>Male</td>\n",
       "      <td>24</td>\n",
       "      <td>21</td>\n",
       "    </tr>\n",
       "    <tr>\n",
       "      <th>873</th>\n",
       "      <td>w914</td>\n",
       "      <td>15</td>\n",
       "      <td>43.688449</td>\n",
       "      <td>0</td>\n",
       "      <td>Capomulin</td>\n",
       "      <td>Male</td>\n",
       "      <td>24</td>\n",
       "      <td>21</td>\n",
       "    </tr>\n",
       "    <tr>\n",
       "      <th>983</th>\n",
       "      <td>w914</td>\n",
       "      <td>20</td>\n",
       "      <td>41.108092</td>\n",
       "      <td>0</td>\n",
       "      <td>Capomulin</td>\n",
       "      <td>Male</td>\n",
       "      <td>24</td>\n",
       "      <td>21</td>\n",
       "    </tr>\n",
       "    <tr>\n",
       "      <th>1181</th>\n",
       "      <td>w914</td>\n",
       "      <td>25</td>\n",
       "      <td>40.291917</td>\n",
       "      <td>0</td>\n",
       "      <td>Capomulin</td>\n",
       "      <td>Male</td>\n",
       "      <td>24</td>\n",
       "      <td>21</td>\n",
       "    </tr>\n",
       "    <tr>\n",
       "      <th>1356</th>\n",
       "      <td>w914</td>\n",
       "      <td>30</td>\n",
       "      <td>40.993110</td>\n",
       "      <td>0</td>\n",
       "      <td>Capomulin</td>\n",
       "      <td>Male</td>\n",
       "      <td>24</td>\n",
       "      <td>21</td>\n",
       "    </tr>\n",
       "    <tr>\n",
       "      <th>1494</th>\n",
       "      <td>w914</td>\n",
       "      <td>35</td>\n",
       "      <td>41.664916</td>\n",
       "      <td>1</td>\n",
       "      <td>Capomulin</td>\n",
       "      <td>Male</td>\n",
       "      <td>24</td>\n",
       "      <td>21</td>\n",
       "    </tr>\n",
       "    <tr>\n",
       "      <th>1732</th>\n",
       "      <td>w914</td>\n",
       "      <td>40</td>\n",
       "      <td>35.611309</td>\n",
       "      <td>2</td>\n",
       "      <td>Capomulin</td>\n",
       "      <td>Male</td>\n",
       "      <td>24</td>\n",
       "      <td>21</td>\n",
       "    </tr>\n",
       "    <tr>\n",
       "      <th>1838</th>\n",
       "      <td>w914</td>\n",
       "      <td>45</td>\n",
       "      <td>36.041047</td>\n",
       "      <td>2</td>\n",
       "      <td>Capomulin</td>\n",
       "      <td>Male</td>\n",
       "      <td>24</td>\n",
       "      <td>21</td>\n",
       "    </tr>\n",
       "  </tbody>\n",
       "</table>\n",
       "</div>"
      ],
      "text/plain": [
       "     Mouse ID  Timepoint  Tumor Volume (mm3)  Metastatic Sites Drug Regimen  \\\n",
       "237      w914          0           45.000000                 0    Capomulin   \n",
       "309      w914          5           45.893720                 0    Capomulin   \n",
       "645      w914         10           43.231963                 0    Capomulin   \n",
       "873      w914         15           43.688449                 0    Capomulin   \n",
       "983      w914         20           41.108092                 0    Capomulin   \n",
       "1181     w914         25           40.291917                 0    Capomulin   \n",
       "1356     w914         30           40.993110                 0    Capomulin   \n",
       "1494     w914         35           41.664916                 1    Capomulin   \n",
       "1732     w914         40           35.611309                 2    Capomulin   \n",
       "1838     w914         45           36.041047                 2    Capomulin   \n",
       "\n",
       "       Sex  Age_months  Weight (g)  \n",
       "237   Male          24          21  \n",
       "309   Male          24          21  \n",
       "645   Male          24          21  \n",
       "873   Male          24          21  \n",
       "983   Male          24          21  \n",
       "1181  Male          24          21  \n",
       "1356  Male          24          21  \n",
       "1494  Male          24          21  \n",
       "1732  Male          24          21  \n",
       "1838  Male          24          21  "
      ]
     },
     "execution_count": 24,
     "metadata": {},
     "output_type": "execute_result"
    }
   ],
   "source": [
    "# Get all rows for b128\n",
    "sample_from_capomulin = study_df.loc[study_df['Mouse ID'] == rand_ID, :]\n",
    "sample_from_capomulin"
   ]
  },
  {
   "cell_type": "code",
   "execution_count": 25,
   "id": "ebe44600",
   "metadata": {},
   "outputs": [
    {
     "data": {
      "image/png": "[encoded data removed]",
      "text/plain": [
       "<Figure size 432x288 with 1 Axes>"
      ]
     },
     "metadata": {
      "needs_background": "light"
     },
     "output_type": "display_data"
    }
   ],
   "source": [
    "\n",
    "# Plot the tumor volumes oof b128 vs the timepoints for b128\n",
    "plt.plot(sample_from_capomulin['Timepoint'], sample_from_capomulin['Tumor Volume (mm3)'])\n",
    "plt.xlabel('Timepoint')\n",
    "plt.ylabel('Tumor Volume (mm$^{3}$)')\n",
    "plt.title(f'Tumor Volume Over Time for {rand_ID} (Randomly Selected from mice Treated with Capomulin)')\n",
    "plt.show()"
   ]
  },
  {
   "cell_type": "markdown",
   "id": "87e8f3d9",
   "metadata": {},
   "source": [
    "The graph shows tumor value over time for a randomly selected mouse treated with Capomulin. It appears to have a Tumor volume decrease over time. If it is representative of Capomulin's general effect on mice, it is a good sign that Capomulin is successful. "
   ]
  },
  {
   "cell_type": "markdown",
   "id": "b77a737c",
   "metadata": {},
   "source": [
    "## Average Tumor Volume vs. Weight Scatter Plot"
   ]
  },
  {
   "cell_type": "code",
   "execution_count": 26,
   "id": "ef74fef7",
   "metadata": {},
   "outputs": [
    {
     "data": {
      "image/png": "[encoded data removed]",
      "text/plain": [
       "<Figure size 432x288 with 1 Axes>"
      ]
     },
     "metadata": {
      "needs_background": "light"
     },
     "output_type": "display_data"
    }
   ],
   "source": [
    "# Create a df stores the average (over all timepoints) tumor volume for each mouse treated with Capomulin \n",
    "average_volume_by_ID_for_capomulin = (study_df.loc[study_df['Drug Regimen'] == 'Capomulin', :]).groupby('Mouse ID').mean()\n",
    "\n",
    "# Plot average tumor volume vs weight for Capomulin \n",
    "plt.scatter(average_volume_by_ID_for_capomulin['Weight (g)'], average_volume_by_ID_for_capomulin['Tumor Volume (mm3)'])\n",
    "plt.xlabel('Weight (g)')\n",
    "plt.ylabel('Tumor Volume (mm$^{3}$)')\n",
    "plt.title('Average Tumor Volume vs. Weight for Mice Treated with Capomulin')\n",
    "plt.show()"
   ]
  },
  {
   "cell_type": "markdown",
   "id": "82d5a99c",
   "metadata": {},
   "source": [
    "Above shows the Tumor volume for each mouse treated with Capomulin, averaged across all timepoints, vs the weight of that mouse. At first glance, it appears to have a slight positive correlation. Below is the same graph but with a linear regression."
   ]
  },
  {
   "cell_type": "markdown",
   "id": "adc1a647",
   "metadata": {},
   "source": [
    "## Correlation Between Average Tumor Volume and Weight for Mice Treated with Capomulin and Scatter Plot with Best-fit Line"
   ]
  },
  {
   "cell_type": "markdown",
   "id": "925f4429",
   "metadata": {},
   "source": [
    "Correlation coefficient for Average Tumor Volume vs Weight of mice treated with capomulin is:"
   ]
  },
  {
   "cell_type": "code",
   "execution_count": 27,
   "id": "52fac51f",
   "metadata": {},
   "outputs": [
    {
     "data": {
      "text/plain": [
       "0.84"
      ]
     },
     "execution_count": 27,
     "metadata": {},
     "output_type": "execute_result"
    }
   ],
   "source": [
    "# Compute Pearson's r value\n",
    "round(st.pearsonr(average_volume_by_ID_for_capomulin['Weight (g)'], average_volume_by_ID_for_capomulin['Tumor Volume (mm3)'])[0],2)"
   ]
  },
  {
   "cell_type": "code",
   "execution_count": 28,
   "id": "7a2428d0",
   "metadata": {},
   "outputs": [
    {
     "data": {
      "image/png": "[encoded data removed]",
      "text/plain": [
       "<Figure size 432x288 with 1 Axes>"
      ]
     },
     "metadata": {
      "needs_background": "light"
     },
     "output_type": "display_data"
    }
   ],
   "source": [
    "# Compute linear regression and unpack values to tuple\n",
    "m, b, r, p, e = st.linregress(average_volume_by_ID_for_capomulin['Weight (g)'], average_volume_by_ID_for_capomulin['Tumor Volume (mm3)'])\n",
    "\n",
    "# Use values from tuple to make a string that summarizes the lin reg\n",
    "eq = f'Volume = {round(m,2)} * weight + {round(b,2)}'\n",
    "\n",
    "# Plot the Scatter plot again, this time with lin reg equation\n",
    "plt.scatter(average_volume_by_ID_for_capomulin['Weight (g)'], average_volume_by_ID_for_capomulin['Tumor Volume (mm3)'])\n",
    "plt.xlabel('Weight (g)')\n",
    "plt.xlim(14, 26)\n",
    "plt.ylabel('Tumor Volume (mm$^{3}$)')\n",
    "plt.title('Tumor Volume vs. Weight for Mice Treated with Capomulin with Best-fit Line')\n",
    "plt.plot(range(14,27), (range(14,27) * m + b), 'r')\n",
    "plt.text(19, 36, eq, color='red')\n",
    "plt.show()"
   ]
  },
  {
   "cell_type": "code",
   "execution_count": 29,
   "id": "4adc2fb1",
   "metadata": {},
   "outputs": [
    {
     "name": "stdout",
     "output_type": "stream",
     "text": [
      "The correlation for the linear regression is 0.84.\n"
     ]
    }
   ],
   "source": [
    "print(f'The correlation for the linear regression is {round(r,2)}.')"
   ]
  },
  {
   "cell_type": "markdown",
   "id": "84198209",
   "metadata": {},
   "source": [
    "The line of best fit shows postitve correlation between weight and average tumor volume meaning that the more the mouse weighs the larger the tumor volume. The correlation value of 0.84 indicates a fairly strong positive correlation."
   ]
  },
  {
   "cell_type": "markdown",
   "id": "4db5823b",
   "metadata": {},
   "source": [
    "## Analysis\n",
    "This notebook has explored the study data for 249 (248 valid, 1 with inconsistant data) mice treated with 10 different drug regimens overa 45 day trial. The study's aim was to prove **Capomulin**, is more effective than the other drug treatements in the study. While the analysis does not confirm that Capomulin is the best treatment, it is significantly better than most of the other regimens and it succeeds at reducing tumor volume over the course of the study. The median for Capomulin (41.56) was found to be comparable only to **Ramicane** (40.67). The gragh of boxplots shows that Ramicane and Capomulin have similair effects on tumor volume. Another interesting trend observed is that average tumor volume increase as weight increases (positive correlation)"
   ]
  }
 ],
 "metadata": {
  "kernelspec": {
   "display_name": "PythonData38",
   "language": "python",
   "name": "pythondata38"
  },
  "language_info": {
   "codemirror_mode": {
    "name": "ipython",
    "version": 3
   },
   "file_extension": ".py",
   "mimetype": "text/x-python",
   "name": "python",
   "nbconvert_exporter": "python",
   "pygments_lexer": "ipython3",
   "version": "3.9.12"
  }
 },
 "nbformat": 4,
 "nbformat_minor": 5
}
